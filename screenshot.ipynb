{
 "cells": [
  {
   "cell_type": "markdown",
   "id": "e5a9ccee",
   "metadata": {},
   "source": [
    "#  Screenshot"
   ]
  },
  {
   "cell_type": "code",
   "execution_count": 1,
   "id": "fa5e17f7",
   "metadata": {},
   "outputs": [
    {
     "name": "stdout",
     "output_type": "stream",
     "text": [
      "<PixelAccess object at 0x000001BAAC787AB0>\n"
     ]
    }
   ],
   "source": [
    "import time\n",
    "from PIL import Image,ImageGrab\n",
    "def takeScreenshot():\n",
    "    image=ImageGrab.grab()\n",
    "    image.show()\n",
    "    return image            \n",
    "\n",
    "if __name__==\"__main__\":\n",
    "    time.sleep(5)\n",
    "    \n",
    "    image=takeScreenshot()\n",
    "    data=image.load()\n",
    "    print(data)\n",
    "    \n",
    "    for i in range(0,255):\n",
    "        for j in range(0,255):\n",
    "            data"
   ]
  },
  {
   "cell_type": "code",
   "execution_count": null,
   "id": "f479018f",
   "metadata": {},
   "outputs": [],
   "source": []
  }
 ],
 "metadata": {
  "kernelspec": {
   "display_name": "Python 3 (ipykernel)",
   "language": "python",
   "name": "python3"
  },
  "language_info": {
   "codemirror_mode": {
    "name": "ipython",
    "version": 3
   },
   "file_extension": ".py",
   "mimetype": "text/x-python",
   "name": "python",
   "nbconvert_exporter": "python",
   "pygments_lexer": "ipython3",
   "version": "3.11.5"
  }
 },
 "nbformat": 4,
 "nbformat_minor": 5
}
